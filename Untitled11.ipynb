{
  "nbformat": 4,
  "nbformat_minor": 0,
  "metadata": {
    "colab": {
      "provenance": []
    },
    "kernelspec": {
      "name": "python3",
      "display_name": "Python 3"
    },
    "language_info": {
      "name": "python"
    },
    "accelerator": "GPU",
    "gpuClass": "standard"
  },
  "cells": [
    {
      "cell_type": "code",
      "execution_count": 80,
      "metadata": {
        "id": "XxKl4cYucbuy"
      },
      "outputs": [],
      "source": [
        "import pandas as pd\n",
        "import numpy as np\n",
        "import seaborn as sns\n"
      ]
    },
    {
      "cell_type": "markdown",
      "source": [
        "# 1. Import the dataset using Pandas from above mentioned url."
      ],
      "metadata": {
        "id": "m_NcHq-Z1cJg"
      }
    },
    {
      "cell_type": "code",
      "source": [
        "df = pd.read_csv('https://raw.githubusercontent.com/SR1608/Datasets/main/covid-data.csv')"
      ],
      "metadata": {
        "id": "7K6NqgPIcjQs"
      },
      "execution_count": 3,
      "outputs": []
    },
    {
      "cell_type": "markdown",
      "source": [
        "# **High Level Data Understanding:**"
      ],
      "metadata": {
        "id": "XDqsSf1bey33"
      }
    },
    {
      "cell_type": "code",
      "source": [
        "df.columns"
      ],
      "metadata": {
        "colab": {
          "base_uri": "https://localhost:8080/"
        },
        "id": "OohbijKNc8zp",
        "outputId": "2974a841-b7b1-4c2c-92c7-55dca16bf76c"
      },
      "execution_count": 6,
      "outputs": [
        {
          "output_type": "execute_result",
          "data": {
            "text/plain": [
              "Index(['iso_code', 'continent', 'location', 'date', 'total_cases', 'new_cases',\n",
              "       'new_cases_smoothed', 'total_deaths', 'new_deaths',\n",
              "       'new_deaths_smoothed', 'total_cases_per_million',\n",
              "       'new_cases_per_million', 'new_cases_smoothed_per_million',\n",
              "       'total_deaths_per_million', 'new_deaths_per_million',\n",
              "       'new_deaths_smoothed_per_million', 'reproduction_rate', 'icu_patients',\n",
              "       'icu_patients_per_million', 'hosp_patients',\n",
              "       'hosp_patients_per_million', 'weekly_icu_admissions',\n",
              "       'weekly_icu_admissions_per_million', 'weekly_hosp_admissions',\n",
              "       'weekly_hosp_admissions_per_million', 'total_tests', 'new_tests',\n",
              "       'total_tests_per_thousand', 'new_tests_per_thousand',\n",
              "       'new_tests_smoothed', 'new_tests_smoothed_per_thousand',\n",
              "       'tests_per_case', 'positive_rate', 'stringency_index', 'population',\n",
              "       'population_density', 'median_age', 'aged_65_older', 'aged_70_older',\n",
              "       'gdp_per_capita', 'extreme_poverty', 'cardiovasc_death_rate',\n",
              "       'diabetes_prevalence', 'female_smokers', 'male_smokers',\n",
              "       'handwashing_facilities', 'hospital_beds_per_thousand',\n",
              "       'life_expectancy', 'human_development_index'],\n",
              "      dtype='object')"
            ]
          },
          "metadata": {},
          "execution_count": 6
        }
      ]
    },
    {
      "cell_type": "markdown",
      "source": [
        "**a. Find no. of rows & columns in the dataset**"
      ],
      "metadata": {
        "id": "67AMK0hK12_y"
      }
    },
    {
      "cell_type": "code",
      "source": [
        "df.shape"
      ],
      "metadata": {
        "colab": {
          "base_uri": "https://localhost:8080/"
        },
        "id": "E0DdIbcX1qSd",
        "outputId": "b2c32d83-81b0-44b8-d49f-2a4cf1db8eba"
      },
      "execution_count": 89,
      "outputs": [
        {
          "output_type": "execute_result",
          "data": {
            "text/plain": [
              "(57394, 9)"
            ]
          },
          "metadata": {},
          "execution_count": 89
        }
      ]
    },
    {
      "cell_type": "code",
      "source": [
        "len(df.columns)"
      ],
      "metadata": {
        "colab": {
          "base_uri": "https://localhost:8080/"
        },
        "id": "2tEc_wpbdBtC",
        "outputId": "a0b747a3-b3e3-47a8-ba86-889264ab2344"
      },
      "execution_count": 9,
      "outputs": [
        {
          "output_type": "execute_result",
          "data": {
            "text/plain": [
              "49"
            ]
          },
          "metadata": {},
          "execution_count": 9
        }
      ]
    },
    {
      "cell_type": "code",
      "source": [
        "len(df.index)"
      ],
      "metadata": {
        "colab": {
          "base_uri": "https://localhost:8080/"
        },
        "id": "Yyl2O_8WdlrZ",
        "outputId": "f22c5b92-a22e-465f-8a89-63ed654477e6"
      },
      "execution_count": 10,
      "outputs": [
        {
          "output_type": "execute_result",
          "data": {
            "text/plain": [
              "57394"
            ]
          },
          "metadata": {},
          "execution_count": 10
        }
      ]
    },
    {
      "cell_type": "markdown",
      "source": [
        "**b. Data types of columns.**"
      ],
      "metadata": {
        "id": "7nqIJGWt17rG"
      }
    },
    {
      "cell_type": "code",
      "source": [
        "df.dtypes"
      ],
      "metadata": {
        "colab": {
          "base_uri": "https://localhost:8080/"
        },
        "id": "sXGMCD_yd18p",
        "outputId": "107abed6-3aa0-4743-d9f7-e927e33d032d"
      },
      "execution_count": 15,
      "outputs": [
        {
          "output_type": "execute_result",
          "data": {
            "text/plain": [
              "iso_code                               object\n",
              "continent                              object\n",
              "location                               object\n",
              "date                                   object\n",
              "total_cases                           float64\n",
              "new_cases                             float64\n",
              "new_cases_smoothed                    float64\n",
              "total_deaths                          float64\n",
              "new_deaths                            float64\n",
              "new_deaths_smoothed                   float64\n",
              "total_cases_per_million               float64\n",
              "new_cases_per_million                 float64\n",
              "new_cases_smoothed_per_million        float64\n",
              "total_deaths_per_million              float64\n",
              "new_deaths_per_million                float64\n",
              "new_deaths_smoothed_per_million       float64\n",
              "reproduction_rate                     float64\n",
              "icu_patients                          float64\n",
              "icu_patients_per_million              float64\n",
              "hosp_patients                         float64\n",
              "hosp_patients_per_million             float64\n",
              "weekly_icu_admissions                 float64\n",
              "weekly_icu_admissions_per_million     float64\n",
              "weekly_hosp_admissions                float64\n",
              "weekly_hosp_admissions_per_million    float64\n",
              "total_tests                           float64\n",
              "new_tests                             float64\n",
              "total_tests_per_thousand              float64\n",
              "new_tests_per_thousand                float64\n",
              "new_tests_smoothed                    float64\n",
              "new_tests_smoothed_per_thousand       float64\n",
              "tests_per_case                        float64\n",
              "positive_rate                         float64\n",
              "stringency_index                      float64\n",
              "population                            float64\n",
              "population_density                    float64\n",
              "median_age                            float64\n",
              "aged_65_older                         float64\n",
              "aged_70_older                         float64\n",
              "gdp_per_capita                        float64\n",
              "extreme_poverty                       float64\n",
              "cardiovasc_death_rate                 float64\n",
              "diabetes_prevalence                   float64\n",
              "female_smokers                        float64\n",
              "male_smokers                          float64\n",
              "handwashing_facilities                float64\n",
              "hospital_beds_per_thousand            float64\n",
              "life_expectancy                       float64\n",
              "human_development_index               float64\n",
              "dtype: object"
            ]
          },
          "metadata": {},
          "execution_count": 15
        }
      ]
    },
    {
      "cell_type": "markdown",
      "source": [
        "**c. Info & describe of data in dataframe.**"
      ],
      "metadata": {
        "id": "Sx_UWJFN2C52"
      }
    },
    {
      "cell_type": "code",
      "source": [
        "df.info()"
      ],
      "metadata": {
        "colab": {
          "base_uri": "https://localhost:8080/"
        },
        "id": "26JBw14bd5BR",
        "outputId": "dfd057e2-4571-4f67-d43e-b68adbc3b553"
      },
      "execution_count": 16,
      "outputs": [
        {
          "output_type": "stream",
          "name": "stdout",
          "text": [
            "<class 'pandas.core.frame.DataFrame'>\n",
            "RangeIndex: 57394 entries, 0 to 57393\n",
            "Data columns (total 49 columns):\n",
            " #   Column                              Non-Null Count  Dtype  \n",
            "---  ------                              --------------  -----  \n",
            " 0   iso_code                            57071 non-null  object \n",
            " 1   continent                           56748 non-null  object \n",
            " 2   location                            57394 non-null  object \n",
            " 3   date                                57394 non-null  object \n",
            " 4   total_cases                         53758 non-null  float64\n",
            " 5   new_cases                           56465 non-null  float64\n",
            " 6   new_cases_smoothed                  55652 non-null  float64\n",
            " 7   total_deaths                        44368 non-null  float64\n",
            " 8   new_deaths                          56465 non-null  float64\n",
            " 9   new_deaths_smoothed                 55652 non-null  float64\n",
            " 10  total_cases_per_million             53471 non-null  float64\n",
            " 11  new_cases_per_million               56401 non-null  float64\n",
            " 12  new_cases_smoothed_per_million      55587 non-null  float64\n",
            " 13  total_deaths_per_million            44096 non-null  float64\n",
            " 14  new_deaths_per_million              56401 non-null  float64\n",
            " 15  new_deaths_smoothed_per_million     55587 non-null  float64\n",
            " 16  reproduction_rate                   37696 non-null  float64\n",
            " 17  icu_patients                        4490 non-null   float64\n",
            " 18  icu_patients_per_million            4490 non-null   float64\n",
            " 19  hosp_patients                       5005 non-null   float64\n",
            " 20  hosp_patients_per_million           5005 non-null   float64\n",
            " 21  weekly_icu_admissions               357 non-null    float64\n",
            " 22  weekly_icu_admissions_per_million   357 non-null    float64\n",
            " 23  weekly_hosp_admissions              645 non-null    float64\n",
            " 24  weekly_hosp_admissions_per_million  645 non-null    float64\n",
            " 25  total_tests                         22017 non-null  float64\n",
            " 26  new_tests                           21787 non-null  float64\n",
            " 27  total_tests_per_thousand            22017 non-null  float64\n",
            " 28  new_tests_per_thousand              21787 non-null  float64\n",
            " 29  new_tests_smoothed                  24612 non-null  float64\n",
            " 30  new_tests_smoothed_per_thousand     24612 non-null  float64\n",
            " 31  tests_per_case                      22802 non-null  float64\n",
            " 32  positive_rate                       23211 non-null  float64\n",
            " 33  stringency_index                    47847 non-null  float64\n",
            " 34  population                          57071 non-null  float64\n",
            " 35  population_density                  54371 non-null  float64\n",
            " 36  median_age                          51034 non-null  float64\n",
            " 37  aged_65_older                       50265 non-null  float64\n",
            " 38  aged_70_older                       50768 non-null  float64\n",
            " 39  gdp_per_capita                      50367 non-null  float64\n",
            " 40  extreme_poverty                     33571 non-null  float64\n",
            " 41  cardiovasc_death_rate               51013 non-null  float64\n",
            " 42  diabetes_prevalence                 52881 non-null  float64\n",
            " 43  female_smokers                      39669 non-null  float64\n",
            " 44  male_smokers                        39156 non-null  float64\n",
            " 45  handwashing_facilities              24176 non-null  float64\n",
            " 46  hospital_beds_per_thousand          45936 non-null  float64\n",
            " 47  life_expectancy                     56336 non-null  float64\n",
            " 48  human_development_index             49247 non-null  float64\n",
            "dtypes: float64(45), object(4)\n",
            "memory usage: 21.5+ MB\n"
          ]
        }
      ]
    },
    {
      "cell_type": "code",
      "source": [
        "df.describe()"
      ],
      "metadata": {
        "colab": {
          "base_uri": "https://localhost:8080/",
          "height": 390
        },
        "id": "St2HtB-qeqAH",
        "outputId": "7fe90eb2-2784-43de-8c28-7b97f533de7c"
      },
      "execution_count": 17,
      "outputs": [
        {
          "output_type": "execute_result",
          "data": {
            "text/plain": [
              "        total_cases      new_cases  new_cases_smoothed  total_deaths  \\\n",
              "count  5.375800e+04   56465.000000        55652.000000  4.436800e+04   \n",
              "mean   1.677974e+05    1953.576941         1920.431953  6.858639e+03   \n",
              "std    1.693038e+06   18269.650340        17777.391785  5.578081e+04   \n",
              "min    1.000000e+00   -8261.000000         -552.000000  1.000000e+00   \n",
              "25%    1.800000e+02       0.000000            0.857000  1.300000e+01   \n",
              "50%    2.070000e+03      14.000000           19.429000  8.400000e+01   \n",
              "75%    2.235675e+04     235.000000          245.286000  7.270000e+02   \n",
              "max    5.515465e+07  646281.000000       584981.857000  1.328537e+06   \n",
              "\n",
              "         new_deaths  new_deaths_smoothed  total_cases_per_million  \\\n",
              "count  56465.000000         55652.000000             53471.000000   \n",
              "mean      47.054317            46.835439              3139.099982   \n",
              "std      390.853776           378.272794              6183.455260   \n",
              "min    -1918.000000          -232.143000                 0.001000   \n",
              "25%        0.000000             0.000000                90.033000   \n",
              "50%        0.000000             0.286000               593.663000   \n",
              "75%        4.000000             4.000000              3487.050000   \n",
              "max    10600.000000          9027.714000             76541.772000   \n",
              "\n",
              "       new_cases_per_million  new_cases_smoothed_per_million  \\\n",
              "count           56401.000000                    55587.000000   \n",
              "mean               39.344804                       38.403211   \n",
              "std               133.985155                      101.649441   \n",
              "min             -2212.545000                     -269.978000   \n",
              "25%                 0.000000                        0.260000   \n",
              "50%                 2.194000                        3.863000   \n",
              "75%                25.941000                       29.678500   \n",
              "max              8652.658000                     2472.188000   \n",
              "\n",
              "       total_deaths_per_million  ...  gdp_per_capita  extreme_poverty  \\\n",
              "count              44096.000000  ...    50367.000000     33571.000000   \n",
              "mean                  95.335293  ...    20620.172071        12.435453   \n",
              "std                  180.721699  ...    20310.999832        19.427924   \n",
              "min                    0.000000  ...      661.240000         0.100000   \n",
              "25%                    3.977750  ...     5321.444000         0.500000   \n",
              "50%                   20.383000  ...    13913.839000         2.000000   \n",
              "75%                   90.571250  ...    31400.840000        18.100000   \n",
              "max                 1248.014000  ...   116935.600000        77.600000   \n",
              "\n",
              "       cardiovasc_death_rate  diabetes_prevalence  female_smokers  \\\n",
              "count           51013.000000         52881.000000    39669.000000   \n",
              "mean              252.646642             8.070269       10.741569   \n",
              "std               117.522344             4.189605       10.470743   \n",
              "min                79.370000             0.990000        0.100000   \n",
              "25%               156.139000             5.310000        1.900000   \n",
              "50%               238.339000             7.110000        6.400000   \n",
              "75%               318.991000            10.390000       19.600000   \n",
              "max               724.417000            30.530000       44.000000   \n",
              "\n",
              "       male_smokers  handwashing_facilities  hospital_beds_per_thousand  \\\n",
              "count  39156.000000            24176.000000                45936.000000   \n",
              "mean      32.642686               52.089636                    3.089724   \n",
              "std       13.453566               31.645306                    2.513193   \n",
              "min        7.700000                1.188000                    0.100000   \n",
              "25%       21.400000               21.222000                    1.300000   \n",
              "50%       31.400000               52.232000                    2.500000   \n",
              "75%       40.900000               83.741000                    4.200000   \n",
              "max       78.100000               98.999000                   13.800000   \n",
              "\n",
              "       life_expectancy  human_development_index  \n",
              "count     56336.000000             49247.000000  \n",
              "mean         73.937780                 0.722223  \n",
              "std           7.397016                 0.153261  \n",
              "min          53.280000                 0.354000  \n",
              "25%          69.870000                 0.601000  \n",
              "50%          75.345000                 0.752000  \n",
              "75%          79.380000                 0.847000  \n",
              "max          86.750000                 0.953000  \n",
              "\n",
              "[8 rows x 45 columns]"
            ],
            "text/html": [
              "\n",
              "  <div id=\"df-97e7d305-50a9-4d0c-9271-439fc30f5421\">\n",
              "    <div class=\"colab-df-container\">\n",
              "      <div>\n",
              "<style scoped>\n",
              "    .dataframe tbody tr th:only-of-type {\n",
              "        vertical-align: middle;\n",
              "    }\n",
              "\n",
              "    .dataframe tbody tr th {\n",
              "        vertical-align: top;\n",
              "    }\n",
              "\n",
              "    .dataframe thead th {\n",
              "        text-align: right;\n",
              "    }\n",
              "</style>\n",
              "<table border=\"1\" class=\"dataframe\">\n",
              "  <thead>\n",
              "    <tr style=\"text-align: right;\">\n",
              "      <th></th>\n",
              "      <th>total_cases</th>\n",
              "      <th>new_cases</th>\n",
              "      <th>new_cases_smoothed</th>\n",
              "      <th>total_deaths</th>\n",
              "      <th>new_deaths</th>\n",
              "      <th>new_deaths_smoothed</th>\n",
              "      <th>total_cases_per_million</th>\n",
              "      <th>new_cases_per_million</th>\n",
              "      <th>new_cases_smoothed_per_million</th>\n",
              "      <th>total_deaths_per_million</th>\n",
              "      <th>...</th>\n",
              "      <th>gdp_per_capita</th>\n",
              "      <th>extreme_poverty</th>\n",
              "      <th>cardiovasc_death_rate</th>\n",
              "      <th>diabetes_prevalence</th>\n",
              "      <th>female_smokers</th>\n",
              "      <th>male_smokers</th>\n",
              "      <th>handwashing_facilities</th>\n",
              "      <th>hospital_beds_per_thousand</th>\n",
              "      <th>life_expectancy</th>\n",
              "      <th>human_development_index</th>\n",
              "    </tr>\n",
              "  </thead>\n",
              "  <tbody>\n",
              "    <tr>\n",
              "      <th>count</th>\n",
              "      <td>5.375800e+04</td>\n",
              "      <td>56465.000000</td>\n",
              "      <td>55652.000000</td>\n",
              "      <td>4.436800e+04</td>\n",
              "      <td>56465.000000</td>\n",
              "      <td>55652.000000</td>\n",
              "      <td>53471.000000</td>\n",
              "      <td>56401.000000</td>\n",
              "      <td>55587.000000</td>\n",
              "      <td>44096.000000</td>\n",
              "      <td>...</td>\n",
              "      <td>50367.000000</td>\n",
              "      <td>33571.000000</td>\n",
              "      <td>51013.000000</td>\n",
              "      <td>52881.000000</td>\n",
              "      <td>39669.000000</td>\n",
              "      <td>39156.000000</td>\n",
              "      <td>24176.000000</td>\n",
              "      <td>45936.000000</td>\n",
              "      <td>56336.000000</td>\n",
              "      <td>49247.000000</td>\n",
              "    </tr>\n",
              "    <tr>\n",
              "      <th>mean</th>\n",
              "      <td>1.677974e+05</td>\n",
              "      <td>1953.576941</td>\n",
              "      <td>1920.431953</td>\n",
              "      <td>6.858639e+03</td>\n",
              "      <td>47.054317</td>\n",
              "      <td>46.835439</td>\n",
              "      <td>3139.099982</td>\n",
              "      <td>39.344804</td>\n",
              "      <td>38.403211</td>\n",
              "      <td>95.335293</td>\n",
              "      <td>...</td>\n",
              "      <td>20620.172071</td>\n",
              "      <td>12.435453</td>\n",
              "      <td>252.646642</td>\n",
              "      <td>8.070269</td>\n",
              "      <td>10.741569</td>\n",
              "      <td>32.642686</td>\n",
              "      <td>52.089636</td>\n",
              "      <td>3.089724</td>\n",
              "      <td>73.937780</td>\n",
              "      <td>0.722223</td>\n",
              "    </tr>\n",
              "    <tr>\n",
              "      <th>std</th>\n",
              "      <td>1.693038e+06</td>\n",
              "      <td>18269.650340</td>\n",
              "      <td>17777.391785</td>\n",
              "      <td>5.578081e+04</td>\n",
              "      <td>390.853776</td>\n",
              "      <td>378.272794</td>\n",
              "      <td>6183.455260</td>\n",
              "      <td>133.985155</td>\n",
              "      <td>101.649441</td>\n",
              "      <td>180.721699</td>\n",
              "      <td>...</td>\n",
              "      <td>20310.999832</td>\n",
              "      <td>19.427924</td>\n",
              "      <td>117.522344</td>\n",
              "      <td>4.189605</td>\n",
              "      <td>10.470743</td>\n",
              "      <td>13.453566</td>\n",
              "      <td>31.645306</td>\n",
              "      <td>2.513193</td>\n",
              "      <td>7.397016</td>\n",
              "      <td>0.153261</td>\n",
              "    </tr>\n",
              "    <tr>\n",
              "      <th>min</th>\n",
              "      <td>1.000000e+00</td>\n",
              "      <td>-8261.000000</td>\n",
              "      <td>-552.000000</td>\n",
              "      <td>1.000000e+00</td>\n",
              "      <td>-1918.000000</td>\n",
              "      <td>-232.143000</td>\n",
              "      <td>0.001000</td>\n",
              "      <td>-2212.545000</td>\n",
              "      <td>-269.978000</td>\n",
              "      <td>0.000000</td>\n",
              "      <td>...</td>\n",
              "      <td>661.240000</td>\n",
              "      <td>0.100000</td>\n",
              "      <td>79.370000</td>\n",
              "      <td>0.990000</td>\n",
              "      <td>0.100000</td>\n",
              "      <td>7.700000</td>\n",
              "      <td>1.188000</td>\n",
              "      <td>0.100000</td>\n",
              "      <td>53.280000</td>\n",
              "      <td>0.354000</td>\n",
              "    </tr>\n",
              "    <tr>\n",
              "      <th>25%</th>\n",
              "      <td>1.800000e+02</td>\n",
              "      <td>0.000000</td>\n",
              "      <td>0.857000</td>\n",
              "      <td>1.300000e+01</td>\n",
              "      <td>0.000000</td>\n",
              "      <td>0.000000</td>\n",
              "      <td>90.033000</td>\n",
              "      <td>0.000000</td>\n",
              "      <td>0.260000</td>\n",
              "      <td>3.977750</td>\n",
              "      <td>...</td>\n",
              "      <td>5321.444000</td>\n",
              "      <td>0.500000</td>\n",
              "      <td>156.139000</td>\n",
              "      <td>5.310000</td>\n",
              "      <td>1.900000</td>\n",
              "      <td>21.400000</td>\n",
              "      <td>21.222000</td>\n",
              "      <td>1.300000</td>\n",
              "      <td>69.870000</td>\n",
              "      <td>0.601000</td>\n",
              "    </tr>\n",
              "    <tr>\n",
              "      <th>50%</th>\n",
              "      <td>2.070000e+03</td>\n",
              "      <td>14.000000</td>\n",
              "      <td>19.429000</td>\n",
              "      <td>8.400000e+01</td>\n",
              "      <td>0.000000</td>\n",
              "      <td>0.286000</td>\n",
              "      <td>593.663000</td>\n",
              "      <td>2.194000</td>\n",
              "      <td>3.863000</td>\n",
              "      <td>20.383000</td>\n",
              "      <td>...</td>\n",
              "      <td>13913.839000</td>\n",
              "      <td>2.000000</td>\n",
              "      <td>238.339000</td>\n",
              "      <td>7.110000</td>\n",
              "      <td>6.400000</td>\n",
              "      <td>31.400000</td>\n",
              "      <td>52.232000</td>\n",
              "      <td>2.500000</td>\n",
              "      <td>75.345000</td>\n",
              "      <td>0.752000</td>\n",
              "    </tr>\n",
              "    <tr>\n",
              "      <th>75%</th>\n",
              "      <td>2.235675e+04</td>\n",
              "      <td>235.000000</td>\n",
              "      <td>245.286000</td>\n",
              "      <td>7.270000e+02</td>\n",
              "      <td>4.000000</td>\n",
              "      <td>4.000000</td>\n",
              "      <td>3487.050000</td>\n",
              "      <td>25.941000</td>\n",
              "      <td>29.678500</td>\n",
              "      <td>90.571250</td>\n",
              "      <td>...</td>\n",
              "      <td>31400.840000</td>\n",
              "      <td>18.100000</td>\n",
              "      <td>318.991000</td>\n",
              "      <td>10.390000</td>\n",
              "      <td>19.600000</td>\n",
              "      <td>40.900000</td>\n",
              "      <td>83.741000</td>\n",
              "      <td>4.200000</td>\n",
              "      <td>79.380000</td>\n",
              "      <td>0.847000</td>\n",
              "    </tr>\n",
              "    <tr>\n",
              "      <th>max</th>\n",
              "      <td>5.515465e+07</td>\n",
              "      <td>646281.000000</td>\n",
              "      <td>584981.857000</td>\n",
              "      <td>1.328537e+06</td>\n",
              "      <td>10600.000000</td>\n",
              "      <td>9027.714000</td>\n",
              "      <td>76541.772000</td>\n",
              "      <td>8652.658000</td>\n",
              "      <td>2472.188000</td>\n",
              "      <td>1248.014000</td>\n",
              "      <td>...</td>\n",
              "      <td>116935.600000</td>\n",
              "      <td>77.600000</td>\n",
              "      <td>724.417000</td>\n",
              "      <td>30.530000</td>\n",
              "      <td>44.000000</td>\n",
              "      <td>78.100000</td>\n",
              "      <td>98.999000</td>\n",
              "      <td>13.800000</td>\n",
              "      <td>86.750000</td>\n",
              "      <td>0.953000</td>\n",
              "    </tr>\n",
              "  </tbody>\n",
              "</table>\n",
              "<p>8 rows × 45 columns</p>\n",
              "</div>\n",
              "      <button class=\"colab-df-convert\" onclick=\"convertToInteractive('df-97e7d305-50a9-4d0c-9271-439fc30f5421')\"\n",
              "              title=\"Convert this dataframe to an interactive table.\"\n",
              "              style=\"display:none;\">\n",
              "        \n",
              "  <svg xmlns=\"http://www.w3.org/2000/svg\" height=\"24px\"viewBox=\"0 0 24 24\"\n",
              "       width=\"24px\">\n",
              "    <path d=\"M0 0h24v24H0V0z\" fill=\"none\"/>\n",
              "    <path d=\"M18.56 5.44l.94 2.06.94-2.06 2.06-.94-2.06-.94-.94-2.06-.94 2.06-2.06.94zm-11 1L8.5 8.5l.94-2.06 2.06-.94-2.06-.94L8.5 2.5l-.94 2.06-2.06.94zm10 10l.94 2.06.94-2.06 2.06-.94-2.06-.94-.94-2.06-.94 2.06-2.06.94z\"/><path d=\"M17.41 7.96l-1.37-1.37c-.4-.4-.92-.59-1.43-.59-.52 0-1.04.2-1.43.59L10.3 9.45l-7.72 7.72c-.78.78-.78 2.05 0 2.83L4 21.41c.39.39.9.59 1.41.59.51 0 1.02-.2 1.41-.59l7.78-7.78 2.81-2.81c.8-.78.8-2.07 0-2.86zM5.41 20L4 18.59l7.72-7.72 1.47 1.35L5.41 20z\"/>\n",
              "  </svg>\n",
              "      </button>\n",
              "      \n",
              "  <style>\n",
              "    .colab-df-container {\n",
              "      display:flex;\n",
              "      flex-wrap:wrap;\n",
              "      gap: 12px;\n",
              "    }\n",
              "\n",
              "    .colab-df-convert {\n",
              "      background-color: #E8F0FE;\n",
              "      border: none;\n",
              "      border-radius: 50%;\n",
              "      cursor: pointer;\n",
              "      display: none;\n",
              "      fill: #1967D2;\n",
              "      height: 32px;\n",
              "      padding: 0 0 0 0;\n",
              "      width: 32px;\n",
              "    }\n",
              "\n",
              "    .colab-df-convert:hover {\n",
              "      background-color: #E2EBFA;\n",
              "      box-shadow: 0px 1px 2px rgba(60, 64, 67, 0.3), 0px 1px 3px 1px rgba(60, 64, 67, 0.15);\n",
              "      fill: #174EA6;\n",
              "    }\n",
              "\n",
              "    [theme=dark] .colab-df-convert {\n",
              "      background-color: #3B4455;\n",
              "      fill: #D2E3FC;\n",
              "    }\n",
              "\n",
              "    [theme=dark] .colab-df-convert:hover {\n",
              "      background-color: #434B5C;\n",
              "      box-shadow: 0px 1px 3px 1px rgba(0, 0, 0, 0.15);\n",
              "      filter: drop-shadow(0px 1px 2px rgba(0, 0, 0, 0.3));\n",
              "      fill: #FFFFFF;\n",
              "    }\n",
              "  </style>\n",
              "\n",
              "      <script>\n",
              "        const buttonEl =\n",
              "          document.querySelector('#df-97e7d305-50a9-4d0c-9271-439fc30f5421 button.colab-df-convert');\n",
              "        buttonEl.style.display =\n",
              "          google.colab.kernel.accessAllowed ? 'block' : 'none';\n",
              "\n",
              "        async function convertToInteractive(key) {\n",
              "          const element = document.querySelector('#df-97e7d305-50a9-4d0c-9271-439fc30f5421');\n",
              "          const dataTable =\n",
              "            await google.colab.kernel.invokeFunction('convertToInteractive',\n",
              "                                                     [key], {});\n",
              "          if (!dataTable) return;\n",
              "\n",
              "          const docLinkHtml = 'Like what you see? Visit the ' +\n",
              "            '<a target=\"_blank\" href=https://colab.research.google.com/notebooks/data_table.ipynb>data table notebook</a>'\n",
              "            + ' to learn more about interactive tables.';\n",
              "          element.innerHTML = '';\n",
              "          dataTable['output_type'] = 'display_data';\n",
              "          await google.colab.output.renderOutput(dataTable, element);\n",
              "          const docLink = document.createElement('div');\n",
              "          docLink.innerHTML = docLinkHtml;\n",
              "          element.appendChild(docLink);\n",
              "        }\n",
              "      </script>\n",
              "    </div>\n",
              "  </div>\n",
              "  "
            ]
          },
          "metadata": {},
          "execution_count": 17
        }
      ]
    },
    {
      "cell_type": "markdown",
      "source": [
        "# **Low Level Data Understanding**"
      ],
      "metadata": {
        "id": "dfC2jeujfUVq"
      }
    },
    {
      "cell_type": "markdown",
      "source": [
        "**a. Find count of unique values in location column.**"
      ],
      "metadata": {
        "id": "uyAeTFiD2L_B"
      }
    },
    {
      "cell_type": "code",
      "source": [
        "len(df['location'].unique())"
      ],
      "metadata": {
        "colab": {
          "base_uri": "https://localhost:8080/"
        },
        "id": "Yz_9ifvyerzp",
        "outputId": "29eb5aac-3981-4ed0-fc83-f27cc4365c46"
      },
      "execution_count": 21,
      "outputs": [
        {
          "output_type": "execute_result",
          "data": {
            "text/plain": [
              "216"
            ]
          },
          "metadata": {},
          "execution_count": 21
        }
      ]
    },
    {
      "cell_type": "markdown",
      "source": [
        "**b. Find which continent has maximum frequency using values\n",
        "counts.**"
      ],
      "metadata": {
        "id": "s9cKHKpf2X1R"
      }
    },
    {
      "cell_type": "code",
      "source": [
        "df['continent'].value_counts()"
      ],
      "metadata": {
        "colab": {
          "base_uri": "https://localhost:8080/"
        },
        "id": "bpj1vdCtfmTR",
        "outputId": "757cb63c-8a93-47c4-e56b-efb8443b2cfd"
      },
      "execution_count": 26,
      "outputs": [
        {
          "output_type": "execute_result",
          "data": {
            "text/plain": [
              "Europe           14828\n",
              "Africa           13637\n",
              "Asia             13528\n",
              "North America     9116\n",
              "South America     3404\n",
              "Oceania           2235\n",
              "Name: continent, dtype: int64"
            ]
          },
          "metadata": {},
          "execution_count": 26
        }
      ]
    },
    {
      "cell_type": "markdown",
      "source": [
        "**c. Find maximum & mean value in 'total_cases'.**"
      ],
      "metadata": {
        "id": "W8X-yWcl2gV-"
      }
    },
    {
      "cell_type": "code",
      "source": [
        "print(df['total_deaths'].max(),df['total_deaths'].mean())"
      ],
      "metadata": {
        "colab": {
          "base_uri": "https://localhost:8080/"
        },
        "id": "aSxx6zUvgGNC",
        "outputId": "68edc5b8-c66b-4251-d9f7-3e0626e9223e"
      },
      "execution_count": 28,
      "outputs": [
        {
          "output_type": "stream",
          "name": "stdout",
          "text": [
            "1328537.0 6858.638748647674\n"
          ]
        }
      ]
    },
    {
      "cell_type": "markdown",
      "source": [
        "**d. Find 25%,50% & 75% quartile value in 'total_deaths'.**"
      ],
      "metadata": {
        "id": "lCg43g6U70he"
      }
    },
    {
      "cell_type": "code",
      "source": [
        "df['total_deaths'].quantile(0.25)"
      ],
      "metadata": {
        "colab": {
          "base_uri": "https://localhost:8080/"
        },
        "id": "zK4OL_FxkkpK",
        "outputId": "8b979752-1103-4e9a-8289-d2aa33669e3b"
      },
      "execution_count": 30,
      "outputs": [
        {
          "output_type": "execute_result",
          "data": {
            "text/plain": [
              "13.0"
            ]
          },
          "metadata": {},
          "execution_count": 30
        }
      ]
    },
    {
      "cell_type": "code",
      "source": [
        "df['total_deaths'].quantile(0.5)"
      ],
      "metadata": {
        "colab": {
          "base_uri": "https://localhost:8080/"
        },
        "id": "-9OGWj7iktEe",
        "outputId": "960d33f6-c63e-4ae6-a001-81b5bc1aa1f7"
      },
      "execution_count": 31,
      "outputs": [
        {
          "output_type": "execute_result",
          "data": {
            "text/plain": [
              "84.0"
            ]
          },
          "metadata": {},
          "execution_count": 31
        }
      ]
    },
    {
      "cell_type": "code",
      "source": [
        "df['total_deaths'].quantile(0.75)"
      ],
      "metadata": {
        "colab": {
          "base_uri": "https://localhost:8080/"
        },
        "id": "43aV29f8k0Om",
        "outputId": "f37388aa-3a73-4549-f47e-0ac3201761dd"
      },
      "execution_count": 33,
      "outputs": [
        {
          "output_type": "execute_result",
          "data": {
            "text/plain": [
              "727.0"
            ]
          },
          "metadata": {},
          "execution_count": 33
        }
      ]
    },
    {
      "cell_type": "markdown",
      "source": [
        "**e. Find which continent has maximum\n",
        "'human_development_index'.**"
      ],
      "metadata": {
        "id": "RSqSWNiE79s9"
      }
    },
    {
      "cell_type": "code",
      "source": [
        "df.iloc[df['human_development_index'].idxmax()]['continent']"
      ],
      "metadata": {
        "colab": {
          "base_uri": "https://localhost:8080/",
          "height": 37
        },
        "id": "U17FOghHk7zt",
        "outputId": "187e642f-53d8-46c8-eb27-505927078e3f"
      },
      "execution_count": 52,
      "outputs": [
        {
          "output_type": "execute_result",
          "data": {
            "text/plain": [
              "'Europe'"
            ],
            "application/vnd.google.colaboratory.intrinsic+json": {
              "type": "string"
            }
          },
          "metadata": {},
          "execution_count": 52
        }
      ]
    },
    {
      "cell_type": "markdown",
      "source": [
        "**f. Find which continent has minimum 'gdp_per_capita'.**"
      ],
      "metadata": {
        "id": "veoDH98C8Erq"
      }
    },
    {
      "cell_type": "code",
      "source": [
        "df.iloc[df['gdp_per_capita'].idxmax()]['continent']"
      ],
      "metadata": {
        "colab": {
          "base_uri": "https://localhost:8080/",
          "height": 37
        },
        "id": "lqAH_t2vlFVl",
        "outputId": "88c4e44b-4a33-4faf-f9fa-fc6f3d6c01da"
      },
      "execution_count": 53,
      "outputs": [
        {
          "output_type": "execute_result",
          "data": {
            "text/plain": [
              "'Asia'"
            ],
            "application/vnd.google.colaboratory.intrinsic+json": {
              "type": "string"
            }
          },
          "metadata": {},
          "execution_count": 53
        }
      ]
    },
    {
      "cell_type": "markdown",
      "source": [
        "**4. Filter the dataframe with only this columns ['continent','location','date','total_cases','total_deaths','gdp_per_ca\n",
        "pita','human_development_index'] and update the data frame.**"
      ],
      "metadata": {
        "id": "7lQHlt2Q8NJM"
      }
    },
    {
      "cell_type": "code",
      "source": [
        "df = df[['continent','location','date','total_cases','total_deaths','gdp_per_capita','human_development_index']]"
      ],
      "metadata": {
        "id": "QbY2rCAilXfF"
      },
      "execution_count": 55,
      "outputs": []
    },
    {
      "cell_type": "code",
      "source": [
        "df.head()"
      ],
      "metadata": {
        "colab": {
          "base_uri": "https://localhost:8080/",
          "height": 215
        },
        "id": "eIqMWPGgnNIl",
        "outputId": "59c9784d-f6cd-4b9a-dccc-17e7d2cb9075"
      },
      "execution_count": 56,
      "outputs": [
        {
          "output_type": "execute_result",
          "data": {
            "text/plain": [
              "  continent     location      date  total_cases  total_deaths  gdp_per_capita  \\\n",
              "0      Asia  Afghanistan  31/12/19          NaN           NaN        1803.987   \n",
              "1      Asia  Afghanistan  01/01/20          NaN           NaN        1803.987   \n",
              "2      Asia  Afghanistan  02/01/20          NaN           NaN        1803.987   \n",
              "3      Asia  Afghanistan  03/01/20          NaN           NaN        1803.987   \n",
              "4      Asia  Afghanistan  04/01/20          NaN           NaN        1803.987   \n",
              "\n",
              "   human_development_index  \n",
              "0                    0.498  \n",
              "1                    0.498  \n",
              "2                    0.498  \n",
              "3                    0.498  \n",
              "4                    0.498  "
            ],
            "text/html": [
              "\n",
              "  <div id=\"df-7238b027-2fe4-4ec7-9d0a-64b8339c26ca\">\n",
              "    <div class=\"colab-df-container\">\n",
              "      <div>\n",
              "<style scoped>\n",
              "    .dataframe tbody tr th:only-of-type {\n",
              "        vertical-align: middle;\n",
              "    }\n",
              "\n",
              "    .dataframe tbody tr th {\n",
              "        vertical-align: top;\n",
              "    }\n",
              "\n",
              "    .dataframe thead th {\n",
              "        text-align: right;\n",
              "    }\n",
              "</style>\n",
              "<table border=\"1\" class=\"dataframe\">\n",
              "  <thead>\n",
              "    <tr style=\"text-align: right;\">\n",
              "      <th></th>\n",
              "      <th>continent</th>\n",
              "      <th>location</th>\n",
              "      <th>date</th>\n",
              "      <th>total_cases</th>\n",
              "      <th>total_deaths</th>\n",
              "      <th>gdp_per_capita</th>\n",
              "      <th>human_development_index</th>\n",
              "    </tr>\n",
              "  </thead>\n",
              "  <tbody>\n",
              "    <tr>\n",
              "      <th>0</th>\n",
              "      <td>Asia</td>\n",
              "      <td>Afghanistan</td>\n",
              "      <td>31/12/19</td>\n",
              "      <td>NaN</td>\n",
              "      <td>NaN</td>\n",
              "      <td>1803.987</td>\n",
              "      <td>0.498</td>\n",
              "    </tr>\n",
              "    <tr>\n",
              "      <th>1</th>\n",
              "      <td>Asia</td>\n",
              "      <td>Afghanistan</td>\n",
              "      <td>01/01/20</td>\n",
              "      <td>NaN</td>\n",
              "      <td>NaN</td>\n",
              "      <td>1803.987</td>\n",
              "      <td>0.498</td>\n",
              "    </tr>\n",
              "    <tr>\n",
              "      <th>2</th>\n",
              "      <td>Asia</td>\n",
              "      <td>Afghanistan</td>\n",
              "      <td>02/01/20</td>\n",
              "      <td>NaN</td>\n",
              "      <td>NaN</td>\n",
              "      <td>1803.987</td>\n",
              "      <td>0.498</td>\n",
              "    </tr>\n",
              "    <tr>\n",
              "      <th>3</th>\n",
              "      <td>Asia</td>\n",
              "      <td>Afghanistan</td>\n",
              "      <td>03/01/20</td>\n",
              "      <td>NaN</td>\n",
              "      <td>NaN</td>\n",
              "      <td>1803.987</td>\n",
              "      <td>0.498</td>\n",
              "    </tr>\n",
              "    <tr>\n",
              "      <th>4</th>\n",
              "      <td>Asia</td>\n",
              "      <td>Afghanistan</td>\n",
              "      <td>04/01/20</td>\n",
              "      <td>NaN</td>\n",
              "      <td>NaN</td>\n",
              "      <td>1803.987</td>\n",
              "      <td>0.498</td>\n",
              "    </tr>\n",
              "  </tbody>\n",
              "</table>\n",
              "</div>\n",
              "      <button class=\"colab-df-convert\" onclick=\"convertToInteractive('df-7238b027-2fe4-4ec7-9d0a-64b8339c26ca')\"\n",
              "              title=\"Convert this dataframe to an interactive table.\"\n",
              "              style=\"display:none;\">\n",
              "        \n",
              "  <svg xmlns=\"http://www.w3.org/2000/svg\" height=\"24px\"viewBox=\"0 0 24 24\"\n",
              "       width=\"24px\">\n",
              "    <path d=\"M0 0h24v24H0V0z\" fill=\"none\"/>\n",
              "    <path d=\"M18.56 5.44l.94 2.06.94-2.06 2.06-.94-2.06-.94-.94-2.06-.94 2.06-2.06.94zm-11 1L8.5 8.5l.94-2.06 2.06-.94-2.06-.94L8.5 2.5l-.94 2.06-2.06.94zm10 10l.94 2.06.94-2.06 2.06-.94-2.06-.94-.94-2.06-.94 2.06-2.06.94z\"/><path d=\"M17.41 7.96l-1.37-1.37c-.4-.4-.92-.59-1.43-.59-.52 0-1.04.2-1.43.59L10.3 9.45l-7.72 7.72c-.78.78-.78 2.05 0 2.83L4 21.41c.39.39.9.59 1.41.59.51 0 1.02-.2 1.41-.59l7.78-7.78 2.81-2.81c.8-.78.8-2.07 0-2.86zM5.41 20L4 18.59l7.72-7.72 1.47 1.35L5.41 20z\"/>\n",
              "  </svg>\n",
              "      </button>\n",
              "      \n",
              "  <style>\n",
              "    .colab-df-container {\n",
              "      display:flex;\n",
              "      flex-wrap:wrap;\n",
              "      gap: 12px;\n",
              "    }\n",
              "\n",
              "    .colab-df-convert {\n",
              "      background-color: #E8F0FE;\n",
              "      border: none;\n",
              "      border-radius: 50%;\n",
              "      cursor: pointer;\n",
              "      display: none;\n",
              "      fill: #1967D2;\n",
              "      height: 32px;\n",
              "      padding: 0 0 0 0;\n",
              "      width: 32px;\n",
              "    }\n",
              "\n",
              "    .colab-df-convert:hover {\n",
              "      background-color: #E2EBFA;\n",
              "      box-shadow: 0px 1px 2px rgba(60, 64, 67, 0.3), 0px 1px 3px 1px rgba(60, 64, 67, 0.15);\n",
              "      fill: #174EA6;\n",
              "    }\n",
              "\n",
              "    [theme=dark] .colab-df-convert {\n",
              "      background-color: #3B4455;\n",
              "      fill: #D2E3FC;\n",
              "    }\n",
              "\n",
              "    [theme=dark] .colab-df-convert:hover {\n",
              "      background-color: #434B5C;\n",
              "      box-shadow: 0px 1px 3px 1px rgba(0, 0, 0, 0.15);\n",
              "      filter: drop-shadow(0px 1px 2px rgba(0, 0, 0, 0.3));\n",
              "      fill: #FFFFFF;\n",
              "    }\n",
              "  </style>\n",
              "\n",
              "      <script>\n",
              "        const buttonEl =\n",
              "          document.querySelector('#df-7238b027-2fe4-4ec7-9d0a-64b8339c26ca button.colab-df-convert');\n",
              "        buttonEl.style.display =\n",
              "          google.colab.kernel.accessAllowed ? 'block' : 'none';\n",
              "\n",
              "        async function convertToInteractive(key) {\n",
              "          const element = document.querySelector('#df-7238b027-2fe4-4ec7-9d0a-64b8339c26ca');\n",
              "          const dataTable =\n",
              "            await google.colab.kernel.invokeFunction('convertToInteractive',\n",
              "                                                     [key], {});\n",
              "          if (!dataTable) return;\n",
              "\n",
              "          const docLinkHtml = 'Like what you see? Visit the ' +\n",
              "            '<a target=\"_blank\" href=https://colab.research.google.com/notebooks/data_table.ipynb>data table notebook</a>'\n",
              "            + ' to learn more about interactive tables.';\n",
              "          element.innerHTML = '';\n",
              "          dataTable['output_type'] = 'display_data';\n",
              "          await google.colab.output.renderOutput(dataTable, element);\n",
              "          const docLink = document.createElement('div');\n",
              "          docLink.innerHTML = docLinkHtml;\n",
              "          element.appendChild(docLink);\n",
              "        }\n",
              "      </script>\n",
              "    </div>\n",
              "  </div>\n",
              "  "
            ]
          },
          "metadata": {},
          "execution_count": 56
        }
      ]
    },
    {
      "cell_type": "markdown",
      "source": [
        "#  Data Cleaning"
      ],
      "metadata": {
        "id": "ar_qXMwbwTqz"
      }
    },
    {
      "cell_type": "markdown",
      "source": [
        "**a. Remove all duplicates observations**"
      ],
      "metadata": {
        "id": "Pklbv3nC8hLP"
      }
    },
    {
      "cell_type": "code",
      "source": [
        "df.drop_duplicates(inplace=True)"
      ],
      "metadata": {
        "colab": {
          "base_uri": "https://localhost:8080/"
        },
        "id": "asezAmsxuzck",
        "outputId": "b8b6bf53-a61a-4933-cca3-c4c9c1ba0a72"
      },
      "execution_count": 59,
      "outputs": [
        {
          "output_type": "stream",
          "name": "stderr",
          "text": [
            "/usr/local/lib/python3.7/dist-packages/pandas/util/_decorators.py:311: SettingWithCopyWarning: \n",
            "A value is trying to be set on a copy of a slice from a DataFrame\n",
            "\n",
            "See the caveats in the documentation: https://pandas.pydata.org/pandas-docs/stable/user_guide/indexing.html#returning-a-view-versus-a-copy\n",
            "  return func(*args, **kwargs)\n"
          ]
        }
      ]
    },
    {
      "cell_type": "markdown",
      "source": [
        "**b. Find missing values in all columns**"
      ],
      "metadata": {
        "id": "M3hroDvu8mP_"
      }
    },
    {
      "cell_type": "code",
      "source": [
        "df.head()"
      ],
      "metadata": {
        "colab": {
          "base_uri": "https://localhost:8080/",
          "height": 248
        },
        "id": "BwPpHiFFvNpK",
        "outputId": "8fefeeab-9435-4b1b-a078-76082eca7650"
      },
      "execution_count": 60,
      "outputs": [
        {
          "output_type": "execute_result",
          "data": {
            "text/plain": [
              "  continent     location      date  total_cases  total_deaths  gdp_per_capita  \\\n",
              "0      Asia  Afghanistan  31/12/19          NaN           NaN        1803.987   \n",
              "1      Asia  Afghanistan  01/01/20          NaN           NaN        1803.987   \n",
              "2      Asia  Afghanistan  02/01/20          NaN           NaN        1803.987   \n",
              "3      Asia  Afghanistan  03/01/20          NaN           NaN        1803.987   \n",
              "4      Asia  Afghanistan  04/01/20          NaN           NaN        1803.987   \n",
              "\n",
              "   human_development_index  \n",
              "0                    0.498  \n",
              "1                    0.498  \n",
              "2                    0.498  \n",
              "3                    0.498  \n",
              "4                    0.498  "
            ],
            "text/html": [
              "\n",
              "  <div id=\"df-98d53931-ac2e-493b-9f34-f97e41f94b23\">\n",
              "    <div class=\"colab-df-container\">\n",
              "      <div>\n",
              "<style scoped>\n",
              "    .dataframe tbody tr th:only-of-type {\n",
              "        vertical-align: middle;\n",
              "    }\n",
              "\n",
              "    .dataframe tbody tr th {\n",
              "        vertical-align: top;\n",
              "    }\n",
              "\n",
              "    .dataframe thead th {\n",
              "        text-align: right;\n",
              "    }\n",
              "</style>\n",
              "<table border=\"1\" class=\"dataframe\">\n",
              "  <thead>\n",
              "    <tr style=\"text-align: right;\">\n",
              "      <th></th>\n",
              "      <th>continent</th>\n",
              "      <th>location</th>\n",
              "      <th>date</th>\n",
              "      <th>total_cases</th>\n",
              "      <th>total_deaths</th>\n",
              "      <th>gdp_per_capita</th>\n",
              "      <th>human_development_index</th>\n",
              "    </tr>\n",
              "  </thead>\n",
              "  <tbody>\n",
              "    <tr>\n",
              "      <th>0</th>\n",
              "      <td>Asia</td>\n",
              "      <td>Afghanistan</td>\n",
              "      <td>31/12/19</td>\n",
              "      <td>NaN</td>\n",
              "      <td>NaN</td>\n",
              "      <td>1803.987</td>\n",
              "      <td>0.498</td>\n",
              "    </tr>\n",
              "    <tr>\n",
              "      <th>1</th>\n",
              "      <td>Asia</td>\n",
              "      <td>Afghanistan</td>\n",
              "      <td>01/01/20</td>\n",
              "      <td>NaN</td>\n",
              "      <td>NaN</td>\n",
              "      <td>1803.987</td>\n",
              "      <td>0.498</td>\n",
              "    </tr>\n",
              "    <tr>\n",
              "      <th>2</th>\n",
              "      <td>Asia</td>\n",
              "      <td>Afghanistan</td>\n",
              "      <td>02/01/20</td>\n",
              "      <td>NaN</td>\n",
              "      <td>NaN</td>\n",
              "      <td>1803.987</td>\n",
              "      <td>0.498</td>\n",
              "    </tr>\n",
              "    <tr>\n",
              "      <th>3</th>\n",
              "      <td>Asia</td>\n",
              "      <td>Afghanistan</td>\n",
              "      <td>03/01/20</td>\n",
              "      <td>NaN</td>\n",
              "      <td>NaN</td>\n",
              "      <td>1803.987</td>\n",
              "      <td>0.498</td>\n",
              "    </tr>\n",
              "    <tr>\n",
              "      <th>4</th>\n",
              "      <td>Asia</td>\n",
              "      <td>Afghanistan</td>\n",
              "      <td>04/01/20</td>\n",
              "      <td>NaN</td>\n",
              "      <td>NaN</td>\n",
              "      <td>1803.987</td>\n",
              "      <td>0.498</td>\n",
              "    </tr>\n",
              "  </tbody>\n",
              "</table>\n",
              "</div>\n",
              "      <button class=\"colab-df-convert\" onclick=\"convertToInteractive('df-98d53931-ac2e-493b-9f34-f97e41f94b23')\"\n",
              "              title=\"Convert this dataframe to an interactive table.\"\n",
              "              style=\"display:none;\">\n",
              "        \n",
              "  <svg xmlns=\"http://www.w3.org/2000/svg\" height=\"24px\"viewBox=\"0 0 24 24\"\n",
              "       width=\"24px\">\n",
              "    <path d=\"M0 0h24v24H0V0z\" fill=\"none\"/>\n",
              "    <path d=\"M18.56 5.44l.94 2.06.94-2.06 2.06-.94-2.06-.94-.94-2.06-.94 2.06-2.06.94zm-11 1L8.5 8.5l.94-2.06 2.06-.94-2.06-.94L8.5 2.5l-.94 2.06-2.06.94zm10 10l.94 2.06.94-2.06 2.06-.94-2.06-.94-.94-2.06-.94 2.06-2.06.94z\"/><path d=\"M17.41 7.96l-1.37-1.37c-.4-.4-.92-.59-1.43-.59-.52 0-1.04.2-1.43.59L10.3 9.45l-7.72 7.72c-.78.78-.78 2.05 0 2.83L4 21.41c.39.39.9.59 1.41.59.51 0 1.02-.2 1.41-.59l7.78-7.78 2.81-2.81c.8-.78.8-2.07 0-2.86zM5.41 20L4 18.59l7.72-7.72 1.47 1.35L5.41 20z\"/>\n",
              "  </svg>\n",
              "      </button>\n",
              "      \n",
              "  <style>\n",
              "    .colab-df-container {\n",
              "      display:flex;\n",
              "      flex-wrap:wrap;\n",
              "      gap: 12px;\n",
              "    }\n",
              "\n",
              "    .colab-df-convert {\n",
              "      background-color: #E8F0FE;\n",
              "      border: none;\n",
              "      border-radius: 50%;\n",
              "      cursor: pointer;\n",
              "      display: none;\n",
              "      fill: #1967D2;\n",
              "      height: 32px;\n",
              "      padding: 0 0 0 0;\n",
              "      width: 32px;\n",
              "    }\n",
              "\n",
              "    .colab-df-convert:hover {\n",
              "      background-color: #E2EBFA;\n",
              "      box-shadow: 0px 1px 2px rgba(60, 64, 67, 0.3), 0px 1px 3px 1px rgba(60, 64, 67, 0.15);\n",
              "      fill: #174EA6;\n",
              "    }\n",
              "\n",
              "    [theme=dark] .colab-df-convert {\n",
              "      background-color: #3B4455;\n",
              "      fill: #D2E3FC;\n",
              "    }\n",
              "\n",
              "    [theme=dark] .colab-df-convert:hover {\n",
              "      background-color: #434B5C;\n",
              "      box-shadow: 0px 1px 3px 1px rgba(0, 0, 0, 0.15);\n",
              "      filter: drop-shadow(0px 1px 2px rgba(0, 0, 0, 0.3));\n",
              "      fill: #FFFFFF;\n",
              "    }\n",
              "  </style>\n",
              "\n",
              "      <script>\n",
              "        const buttonEl =\n",
              "          document.querySelector('#df-98d53931-ac2e-493b-9f34-f97e41f94b23 button.colab-df-convert');\n",
              "        buttonEl.style.display =\n",
              "          google.colab.kernel.accessAllowed ? 'block' : 'none';\n",
              "\n",
              "        async function convertToInteractive(key) {\n",
              "          const element = document.querySelector('#df-98d53931-ac2e-493b-9f34-f97e41f94b23');\n",
              "          const dataTable =\n",
              "            await google.colab.kernel.invokeFunction('convertToInteractive',\n",
              "                                                     [key], {});\n",
              "          if (!dataTable) return;\n",
              "\n",
              "          const docLinkHtml = 'Like what you see? Visit the ' +\n",
              "            '<a target=\"_blank\" href=https://colab.research.google.com/notebooks/data_table.ipynb>data table notebook</a>'\n",
              "            + ' to learn more about interactive tables.';\n",
              "          element.innerHTML = '';\n",
              "          dataTable['output_type'] = 'display_data';\n",
              "          await google.colab.output.renderOutput(dataTable, element);\n",
              "          const docLink = document.createElement('div');\n",
              "          docLink.innerHTML = docLinkHtml;\n",
              "          element.appendChild(docLink);\n",
              "        }\n",
              "      </script>\n",
              "    </div>\n",
              "  </div>\n",
              "  "
            ]
          },
          "metadata": {},
          "execution_count": 60
        }
      ]
    },
    {
      "cell_type": "code",
      "source": [
        "df.shape"
      ],
      "metadata": {
        "colab": {
          "base_uri": "https://localhost:8080/"
        },
        "id": "Spwv-aJWvUK2",
        "outputId": "1c28ad5f-76a9-4969-e02c-4f8c372d347d"
      },
      "execution_count": 65,
      "outputs": [
        {
          "output_type": "execute_result",
          "data": {
            "text/plain": [
              "(57394, 7)"
            ]
          },
          "metadata": {},
          "execution_count": 65
        }
      ]
    },
    {
      "cell_type": "code",
      "source": [
        "df.isnull().sum()"
      ],
      "metadata": {
        "colab": {
          "base_uri": "https://localhost:8080/"
        },
        "id": "sRub1gh7vXio",
        "outputId": "9cb204de-188b-48ef-a5fd-0a4d94f2f071"
      },
      "execution_count": 63,
      "outputs": [
        {
          "output_type": "execute_result",
          "data": {
            "text/plain": [
              "continent                    646\n",
              "location                       0\n",
              "date                           0\n",
              "total_cases                 3636\n",
              "total_deaths               13026\n",
              "gdp_per_capita              7027\n",
              "human_development_index     8147\n",
              "dtype: int64"
            ]
          },
          "metadata": {},
          "execution_count": 63
        }
      ]
    },
    {
      "cell_type": "markdown",
      "source": [
        "**c. Remove all observations where continent column value is missing**"
      ],
      "metadata": {
        "id": "lIIu0su98vyu"
      }
    },
    {
      "cell_type": "code",
      "source": [
        "df['continent'].dropna(axis=0,inplace=True)"
      ],
      "metadata": {
        "colab": {
          "base_uri": "https://localhost:8080/"
        },
        "id": "jn6RXz9vvhyq",
        "outputId": "275a56b6-4feb-49b5-d51a-8c681cd84670"
      },
      "execution_count": 64,
      "outputs": [
        {
          "output_type": "stream",
          "name": "stderr",
          "text": [
            "/usr/local/lib/python3.7/dist-packages/pandas/core/series.py:5258: SettingWithCopyWarning: \n",
            "A value is trying to be set on a copy of a slice from a DataFrame\n",
            "\n",
            "See the caveats in the documentation: https://pandas.pydata.org/pandas-docs/stable/user_guide/indexing.html#returning-a-view-versus-a-copy\n",
            "  self._update_inplace(result)\n"
          ]
        }
      ]
    },
    {
      "cell_type": "markdown",
      "source": [
        "**d. Fill all missing values with 0**"
      ],
      "metadata": {
        "id": "5zq0pKhQ80W7"
      }
    },
    {
      "cell_type": "code",
      "source": [
        "df.fillna(0,inplace=True)"
      ],
      "metadata": {
        "colab": {
          "base_uri": "https://localhost:8080/"
        },
        "id": "wUgOqxn3v4_j",
        "outputId": "941f0fd3-a06b-4b74-e9e2-957f42fdaa18"
      },
      "execution_count": 66,
      "outputs": [
        {
          "output_type": "stream",
          "name": "stderr",
          "text": [
            "/usr/local/lib/python3.7/dist-packages/pandas/core/frame.py:5182: SettingWithCopyWarning: \n",
            "A value is trying to be set on a copy of a slice from a DataFrame\n",
            "\n",
            "See the caveats in the documentation: https://pandas.pydata.org/pandas-docs/stable/user_guide/indexing.html#returning-a-view-versus-a-copy\n",
            "  downcast=downcast,\n"
          ]
        }
      ]
    },
    {
      "cell_type": "markdown",
      "source": [
        "# Data time format :"
      ],
      "metadata": {
        "id": "0ARQi-3awzfR"
      }
    },
    {
      "cell_type": "markdown",
      "source": [
        "**a. Convert date column in datetime format using\n",
        "pandas.to_datetime**"
      ],
      "metadata": {
        "id": "zTtBQh0o86rz"
      }
    },
    {
      "cell_type": "code",
      "source": [
        "pd.to_datetime(df['date'])"
      ],
      "metadata": {
        "colab": {
          "base_uri": "https://localhost:8080/"
        },
        "id": "SPzzgSM9wMHX",
        "outputId": "29ef41c0-45e7-4937-ed7e-b1a46285824b"
      },
      "execution_count": 69,
      "outputs": [
        {
          "output_type": "execute_result",
          "data": {
            "text/plain": [
              "0       2019-12-31\n",
              "1       2020-01-01\n",
              "2       2020-02-01\n",
              "3       2020-03-01\n",
              "4       2020-04-01\n",
              "           ...    \n",
              "57389   2020-11-13\n",
              "57390   2020-11-14\n",
              "57391   2020-11-15\n",
              "57392   2020-11-16\n",
              "57393   2020-11-17\n",
              "Name: date, Length: 57394, dtype: datetime64[ns]"
            ]
          },
          "metadata": {},
          "execution_count": 69
        }
      ]
    },
    {
      "cell_type": "markdown",
      "source": [
        "**b. Create new column month after extracting month data from date\n",
        "column.**"
      ],
      "metadata": {
        "id": "l2sSkFaO9BS1"
      }
    },
    {
      "cell_type": "code",
      "source": [
        "df['month'] = pd.to_datetime(df['date']).dt.month"
      ],
      "metadata": {
        "colab": {
          "base_uri": "https://localhost:8080/"
        },
        "id": "H24CmvLDxEut",
        "outputId": "2cf6aa93-30d7-41b0-aea6-437e62c6684b"
      },
      "execution_count": 70,
      "outputs": [
        {
          "output_type": "stream",
          "name": "stderr",
          "text": [
            "/usr/local/lib/python3.7/dist-packages/ipykernel_launcher.py:1: SettingWithCopyWarning: \n",
            "A value is trying to be set on a copy of a slice from a DataFrame.\n",
            "Try using .loc[row_indexer,col_indexer] = value instead\n",
            "\n",
            "See the caveats in the documentation: https://pandas.pydata.org/pandas-docs/stable/user_guide/indexing.html#returning-a-view-versus-a-copy\n",
            "  \"\"\"Entry point for launching an IPython kernel.\n"
          ]
        }
      ]
    },
    {
      "cell_type": "code",
      "source": [
        "df.head()"
      ],
      "metadata": {
        "colab": {
          "base_uri": "https://localhost:8080/",
          "height": 268
        },
        "id": "Dog2Yu-eyA4z",
        "outputId": "1edabbbf-d705-44c6-91ed-94b914e39512"
      },
      "execution_count": 71,
      "outputs": [
        {
          "output_type": "execute_result",
          "data": {
            "text/plain": [
              "  continent     location      date  total_cases  total_deaths  gdp_per_capita  \\\n",
              "0      Asia  Afghanistan  31/12/19          0.0           0.0        1803.987   \n",
              "1      Asia  Afghanistan  01/01/20          0.0           0.0        1803.987   \n",
              "2      Asia  Afghanistan  02/01/20          0.0           0.0        1803.987   \n",
              "3      Asia  Afghanistan  03/01/20          0.0           0.0        1803.987   \n",
              "4      Asia  Afghanistan  04/01/20          0.0           0.0        1803.987   \n",
              "\n",
              "   human_development_index  month  \n",
              "0                    0.498     12  \n",
              "1                    0.498      1  \n",
              "2                    0.498      2  \n",
              "3                    0.498      3  \n",
              "4                    0.498      4  "
            ],
            "text/html": [
              "\n",
              "  <div id=\"df-17c5e73d-ced7-47bb-98a8-5bd9945c12d2\">\n",
              "    <div class=\"colab-df-container\">\n",
              "      <div>\n",
              "<style scoped>\n",
              "    .dataframe tbody tr th:only-of-type {\n",
              "        vertical-align: middle;\n",
              "    }\n",
              "\n",
              "    .dataframe tbody tr th {\n",
              "        vertical-align: top;\n",
              "    }\n",
              "\n",
              "    .dataframe thead th {\n",
              "        text-align: right;\n",
              "    }\n",
              "</style>\n",
              "<table border=\"1\" class=\"dataframe\">\n",
              "  <thead>\n",
              "    <tr style=\"text-align: right;\">\n",
              "      <th></th>\n",
              "      <th>continent</th>\n",
              "      <th>location</th>\n",
              "      <th>date</th>\n",
              "      <th>total_cases</th>\n",
              "      <th>total_deaths</th>\n",
              "      <th>gdp_per_capita</th>\n",
              "      <th>human_development_index</th>\n",
              "      <th>month</th>\n",
              "    </tr>\n",
              "  </thead>\n",
              "  <tbody>\n",
              "    <tr>\n",
              "      <th>0</th>\n",
              "      <td>Asia</td>\n",
              "      <td>Afghanistan</td>\n",
              "      <td>31/12/19</td>\n",
              "      <td>0.0</td>\n",
              "      <td>0.0</td>\n",
              "      <td>1803.987</td>\n",
              "      <td>0.498</td>\n",
              "      <td>12</td>\n",
              "    </tr>\n",
              "    <tr>\n",
              "      <th>1</th>\n",
              "      <td>Asia</td>\n",
              "      <td>Afghanistan</td>\n",
              "      <td>01/01/20</td>\n",
              "      <td>0.0</td>\n",
              "      <td>0.0</td>\n",
              "      <td>1803.987</td>\n",
              "      <td>0.498</td>\n",
              "      <td>1</td>\n",
              "    </tr>\n",
              "    <tr>\n",
              "      <th>2</th>\n",
              "      <td>Asia</td>\n",
              "      <td>Afghanistan</td>\n",
              "      <td>02/01/20</td>\n",
              "      <td>0.0</td>\n",
              "      <td>0.0</td>\n",
              "      <td>1803.987</td>\n",
              "      <td>0.498</td>\n",
              "      <td>2</td>\n",
              "    </tr>\n",
              "    <tr>\n",
              "      <th>3</th>\n",
              "      <td>Asia</td>\n",
              "      <td>Afghanistan</td>\n",
              "      <td>03/01/20</td>\n",
              "      <td>0.0</td>\n",
              "      <td>0.0</td>\n",
              "      <td>1803.987</td>\n",
              "      <td>0.498</td>\n",
              "      <td>3</td>\n",
              "    </tr>\n",
              "    <tr>\n",
              "      <th>4</th>\n",
              "      <td>Asia</td>\n",
              "      <td>Afghanistan</td>\n",
              "      <td>04/01/20</td>\n",
              "      <td>0.0</td>\n",
              "      <td>0.0</td>\n",
              "      <td>1803.987</td>\n",
              "      <td>0.498</td>\n",
              "      <td>4</td>\n",
              "    </tr>\n",
              "  </tbody>\n",
              "</table>\n",
              "</div>\n",
              "      <button class=\"colab-df-convert\" onclick=\"convertToInteractive('df-17c5e73d-ced7-47bb-98a8-5bd9945c12d2')\"\n",
              "              title=\"Convert this dataframe to an interactive table.\"\n",
              "              style=\"display:none;\">\n",
              "        \n",
              "  <svg xmlns=\"http://www.w3.org/2000/svg\" height=\"24px\"viewBox=\"0 0 24 24\"\n",
              "       width=\"24px\">\n",
              "    <path d=\"M0 0h24v24H0V0z\" fill=\"none\"/>\n",
              "    <path d=\"M18.56 5.44l.94 2.06.94-2.06 2.06-.94-2.06-.94-.94-2.06-.94 2.06-2.06.94zm-11 1L8.5 8.5l.94-2.06 2.06-.94-2.06-.94L8.5 2.5l-.94 2.06-2.06.94zm10 10l.94 2.06.94-2.06 2.06-.94-2.06-.94-.94-2.06-.94 2.06-2.06.94z\"/><path d=\"M17.41 7.96l-1.37-1.37c-.4-.4-.92-.59-1.43-.59-.52 0-1.04.2-1.43.59L10.3 9.45l-7.72 7.72c-.78.78-.78 2.05 0 2.83L4 21.41c.39.39.9.59 1.41.59.51 0 1.02-.2 1.41-.59l7.78-7.78 2.81-2.81c.8-.78.8-2.07 0-2.86zM5.41 20L4 18.59l7.72-7.72 1.47 1.35L5.41 20z\"/>\n",
              "  </svg>\n",
              "      </button>\n",
              "      \n",
              "  <style>\n",
              "    .colab-df-container {\n",
              "      display:flex;\n",
              "      flex-wrap:wrap;\n",
              "      gap: 12px;\n",
              "    }\n",
              "\n",
              "    .colab-df-convert {\n",
              "      background-color: #E8F0FE;\n",
              "      border: none;\n",
              "      border-radius: 50%;\n",
              "      cursor: pointer;\n",
              "      display: none;\n",
              "      fill: #1967D2;\n",
              "      height: 32px;\n",
              "      padding: 0 0 0 0;\n",
              "      width: 32px;\n",
              "    }\n",
              "\n",
              "    .colab-df-convert:hover {\n",
              "      background-color: #E2EBFA;\n",
              "      box-shadow: 0px 1px 2px rgba(60, 64, 67, 0.3), 0px 1px 3px 1px rgba(60, 64, 67, 0.15);\n",
              "      fill: #174EA6;\n",
              "    }\n",
              "\n",
              "    [theme=dark] .colab-df-convert {\n",
              "      background-color: #3B4455;\n",
              "      fill: #D2E3FC;\n",
              "    }\n",
              "\n",
              "    [theme=dark] .colab-df-convert:hover {\n",
              "      background-color: #434B5C;\n",
              "      box-shadow: 0px 1px 3px 1px rgba(0, 0, 0, 0.15);\n",
              "      filter: drop-shadow(0px 1px 2px rgba(0, 0, 0, 0.3));\n",
              "      fill: #FFFFFF;\n",
              "    }\n",
              "  </style>\n",
              "\n",
              "      <script>\n",
              "        const buttonEl =\n",
              "          document.querySelector('#df-17c5e73d-ced7-47bb-98a8-5bd9945c12d2 button.colab-df-convert');\n",
              "        buttonEl.style.display =\n",
              "          google.colab.kernel.accessAllowed ? 'block' : 'none';\n",
              "\n",
              "        async function convertToInteractive(key) {\n",
              "          const element = document.querySelector('#df-17c5e73d-ced7-47bb-98a8-5bd9945c12d2');\n",
              "          const dataTable =\n",
              "            await google.colab.kernel.invokeFunction('convertToInteractive',\n",
              "                                                     [key], {});\n",
              "          if (!dataTable) return;\n",
              "\n",
              "          const docLinkHtml = 'Like what you see? Visit the ' +\n",
              "            '<a target=\"_blank\" href=https://colab.research.google.com/notebooks/data_table.ipynb>data table notebook</a>'\n",
              "            + ' to learn more about interactive tables.';\n",
              "          element.innerHTML = '';\n",
              "          dataTable['output_type'] = 'display_data';\n",
              "          await google.colab.output.renderOutput(dataTable, element);\n",
              "          const docLink = document.createElement('div');\n",
              "          docLink.innerHTML = docLinkHtml;\n",
              "          element.appendChild(docLink);\n",
              "        }\n",
              "      </script>\n",
              "    </div>\n",
              "  </div>\n",
              "  "
            ]
          },
          "metadata": {},
          "execution_count": 71
        }
      ]
    },
    {
      "cell_type": "markdown",
      "source": [
        "# Data Aggregation :"
      ],
      "metadata": {
        "id": "ZmVhQlavyRho"
      }
    },
    {
      "cell_type": "markdown",
      "source": [
        "**a. Find max value in all columns using groupby function on\n",
        "'continent' column**"
      ],
      "metadata": {
        "id": "S0vV5GkP9K0x"
      }
    },
    {
      "cell_type": "code",
      "source": [
        "|df.groupby('continent').max().reset_index()"
      ],
      "metadata": {
        "colab": {
          "base_uri": "https://localhost:8080/",
          "height": 415
        },
        "id": "op-y1iCqyDVA",
        "outputId": "e2d9d479-1da5-47c5-c2ba-de1331e91add"
      },
      "execution_count": 73,
      "outputs": [
        {
          "output_type": "execute_result",
          "data": {
            "text/plain": [
              "       continent                      location      date  total_cases  \\\n",
              "0              0                         World  31/12/19   55154651.0   \n",
              "1         Africa                      Zimbabwe  31/12/19     752269.0   \n",
              "2           Asia                         Yemen  31/12/19    8874290.0   \n",
              "3         Europe                       Vatican  31/12/19    1991233.0   \n",
              "4  North America  United States Virgin Islands  31/12/19   11205486.0   \n",
              "5        Oceania             Wallis and Futuna  31/12/19      27750.0   \n",
              "6  South America                     Venezuela  31/12/19    5876464.0   \n",
              "\n",
              "   total_deaths  gdp_per_capita  human_development_index  month  \n",
              "0     1328537.0       15469.207                    0.000     12  \n",
              "1       20314.0       26382.287                    0.797     12  \n",
              "2      130519.0      116935.600                    0.933     12  \n",
              "3       52147.0       94277.965                    0.953     12  \n",
              "4      247220.0       54225.446                    0.926     12  \n",
              "5         907.0       44648.710                    0.939     12  \n",
              "6      166014.0       22767.037                    0.843     12  "
            ],
            "text/html": [
              "\n",
              "  <div id=\"df-a8e5e838-e57e-4e23-96be-5fd2bb824844\">\n",
              "    <div class=\"colab-df-container\">\n",
              "      <div>\n",
              "<style scoped>\n",
              "    .dataframe tbody tr th:only-of-type {\n",
              "        vertical-align: middle;\n",
              "    }\n",
              "\n",
              "    .dataframe tbody tr th {\n",
              "        vertical-align: top;\n",
              "    }\n",
              "\n",
              "    .dataframe thead th {\n",
              "        text-align: right;\n",
              "    }\n",
              "</style>\n",
              "<table border=\"1\" class=\"dataframe\">\n",
              "  <thead>\n",
              "    <tr style=\"text-align: right;\">\n",
              "      <th></th>\n",
              "      <th>continent</th>\n",
              "      <th>location</th>\n",
              "      <th>date</th>\n",
              "      <th>total_cases</th>\n",
              "      <th>total_deaths</th>\n",
              "      <th>gdp_per_capita</th>\n",
              "      <th>human_development_index</th>\n",
              "      <th>month</th>\n",
              "    </tr>\n",
              "  </thead>\n",
              "  <tbody>\n",
              "    <tr>\n",
              "      <th>0</th>\n",
              "      <td>0</td>\n",
              "      <td>World</td>\n",
              "      <td>31/12/19</td>\n",
              "      <td>55154651.0</td>\n",
              "      <td>1328537.0</td>\n",
              "      <td>15469.207</td>\n",
              "      <td>0.000</td>\n",
              "      <td>12</td>\n",
              "    </tr>\n",
              "    <tr>\n",
              "      <th>1</th>\n",
              "      <td>Africa</td>\n",
              "      <td>Zimbabwe</td>\n",
              "      <td>31/12/19</td>\n",
              "      <td>752269.0</td>\n",
              "      <td>20314.0</td>\n",
              "      <td>26382.287</td>\n",
              "      <td>0.797</td>\n",
              "      <td>12</td>\n",
              "    </tr>\n",
              "    <tr>\n",
              "      <th>2</th>\n",
              "      <td>Asia</td>\n",
              "      <td>Yemen</td>\n",
              "      <td>31/12/19</td>\n",
              "      <td>8874290.0</td>\n",
              "      <td>130519.0</td>\n",
              "      <td>116935.600</td>\n",
              "      <td>0.933</td>\n",
              "      <td>12</td>\n",
              "    </tr>\n",
              "    <tr>\n",
              "      <th>3</th>\n",
              "      <td>Europe</td>\n",
              "      <td>Vatican</td>\n",
              "      <td>31/12/19</td>\n",
              "      <td>1991233.0</td>\n",
              "      <td>52147.0</td>\n",
              "      <td>94277.965</td>\n",
              "      <td>0.953</td>\n",
              "      <td>12</td>\n",
              "    </tr>\n",
              "    <tr>\n",
              "      <th>4</th>\n",
              "      <td>North America</td>\n",
              "      <td>United States Virgin Islands</td>\n",
              "      <td>31/12/19</td>\n",
              "      <td>11205486.0</td>\n",
              "      <td>247220.0</td>\n",
              "      <td>54225.446</td>\n",
              "      <td>0.926</td>\n",
              "      <td>12</td>\n",
              "    </tr>\n",
              "    <tr>\n",
              "      <th>5</th>\n",
              "      <td>Oceania</td>\n",
              "      <td>Wallis and Futuna</td>\n",
              "      <td>31/12/19</td>\n",
              "      <td>27750.0</td>\n",
              "      <td>907.0</td>\n",
              "      <td>44648.710</td>\n",
              "      <td>0.939</td>\n",
              "      <td>12</td>\n",
              "    </tr>\n",
              "    <tr>\n",
              "      <th>6</th>\n",
              "      <td>South America</td>\n",
              "      <td>Venezuela</td>\n",
              "      <td>31/12/19</td>\n",
              "      <td>5876464.0</td>\n",
              "      <td>166014.0</td>\n",
              "      <td>22767.037</td>\n",
              "      <td>0.843</td>\n",
              "      <td>12</td>\n",
              "    </tr>\n",
              "  </tbody>\n",
              "</table>\n",
              "</div>\n",
              "      <button class=\"colab-df-convert\" onclick=\"convertToInteractive('df-a8e5e838-e57e-4e23-96be-5fd2bb824844')\"\n",
              "              title=\"Convert this dataframe to an interactive table.\"\n",
              "              style=\"display:none;\">\n",
              "        \n",
              "  <svg xmlns=\"http://www.w3.org/2000/svg\" height=\"24px\"viewBox=\"0 0 24 24\"\n",
              "       width=\"24px\">\n",
              "    <path d=\"M0 0h24v24H0V0z\" fill=\"none\"/>\n",
              "    <path d=\"M18.56 5.44l.94 2.06.94-2.06 2.06-.94-2.06-.94-.94-2.06-.94 2.06-2.06.94zm-11 1L8.5 8.5l.94-2.06 2.06-.94-2.06-.94L8.5 2.5l-.94 2.06-2.06.94zm10 10l.94 2.06.94-2.06 2.06-.94-2.06-.94-.94-2.06-.94 2.06-2.06.94z\"/><path d=\"M17.41 7.96l-1.37-1.37c-.4-.4-.92-.59-1.43-.59-.52 0-1.04.2-1.43.59L10.3 9.45l-7.72 7.72c-.78.78-.78 2.05 0 2.83L4 21.41c.39.39.9.59 1.41.59.51 0 1.02-.2 1.41-.59l7.78-7.78 2.81-2.81c.8-.78.8-2.07 0-2.86zM5.41 20L4 18.59l7.72-7.72 1.47 1.35L5.41 20z\"/>\n",
              "  </svg>\n",
              "      </button>\n",
              "      \n",
              "  <style>\n",
              "    .colab-df-container {\n",
              "      display:flex;\n",
              "      flex-wrap:wrap;\n",
              "      gap: 12px;\n",
              "    }\n",
              "\n",
              "    .colab-df-convert {\n",
              "      background-color: #E8F0FE;\n",
              "      border: none;\n",
              "      border-radius: 50%;\n",
              "      cursor: pointer;\n",
              "      display: none;\n",
              "      fill: #1967D2;\n",
              "      height: 32px;\n",
              "      padding: 0 0 0 0;\n",
              "      width: 32px;\n",
              "    }\n",
              "\n",
              "    .colab-df-convert:hover {\n",
              "      background-color: #E2EBFA;\n",
              "      box-shadow: 0px 1px 2px rgba(60, 64, 67, 0.3), 0px 1px 3px 1px rgba(60, 64, 67, 0.15);\n",
              "      fill: #174EA6;\n",
              "    }\n",
              "\n",
              "    [theme=dark] .colab-df-convert {\n",
              "      background-color: #3B4455;\n",
              "      fill: #D2E3FC;\n",
              "    }\n",
              "\n",
              "    [theme=dark] .colab-df-convert:hover {\n",
              "      background-color: #434B5C;\n",
              "      box-shadow: 0px 1px 3px 1px rgba(0, 0, 0, 0.15);\n",
              "      filter: drop-shadow(0px 1px 2px rgba(0, 0, 0, 0.3));\n",
              "      fill: #FFFFFF;\n",
              "    }\n",
              "  </style>\n",
              "\n",
              "      <script>\n",
              "        const buttonEl =\n",
              "          document.querySelector('#df-a8e5e838-e57e-4e23-96be-5fd2bb824844 button.colab-df-convert');\n",
              "        buttonEl.style.display =\n",
              "          google.colab.kernel.accessAllowed ? 'block' : 'none';\n",
              "\n",
              "        async function convertToInteractive(key) {\n",
              "          const element = document.querySelector('#df-a8e5e838-e57e-4e23-96be-5fd2bb824844');\n",
              "          const dataTable =\n",
              "            await google.colab.kernel.invokeFunction('convertToInteractive',\n",
              "                                                     [key], {});\n",
              "          if (!dataTable) return;\n",
              "\n",
              "          const docLinkHtml = 'Like what you see? Visit the ' +\n",
              "            '<a target=\"_blank\" href=https://colab.research.google.com/notebooks/data_table.ipynb>data table notebook</a>'\n",
              "            + ' to learn more about interactive tables.';\n",
              "          element.innerHTML = '';\n",
              "          dataTable['output_type'] = 'display_data';\n",
              "          await google.colab.output.renderOutput(dataTable, element);\n",
              "          const docLink = document.createElement('div');\n",
              "          docLink.innerHTML = docLinkHtml;\n",
              "          element.appendChild(docLink);\n",
              "        }\n",
              "      </script>\n",
              "    </div>\n",
              "  </div>\n",
              "  "
            ]
          },
          "metadata": {},
          "execution_count": 73
        }
      ]
    },
    {
      "cell_type": "markdown",
      "source": [
        "**b. Store the result in a new dataframe named 'df_groupby'. (Use df_groupby dataframe for all further analysis)**"
      ],
      "metadata": {
        "id": "h-aMs0oY9PTH"
      }
    },
    {
      "cell_type": "code",
      "source": [
        "df_groupby = df.groupby('continent').max().reset_index()"
      ],
      "metadata": {
        "id": "uyuVcwAlyqnh"
      },
      "execution_count": 77,
      "outputs": []
    },
    {
      "cell_type": "markdown",
      "source": [
        "# Feature Engineering :"
      ],
      "metadata": {
        "id": "soEecRQ2y4p9"
      }
    },
    {
      "cell_type": "markdown",
      "source": [
        "**a. Create a new feature 'total_deaths_to_total_cases' by ratio of 'total_deaths' column to 'total_cases'**"
      ],
      "metadata": {
        "id": "lSqTlgBh9Wqf"
      }
    },
    {
      "cell_type": "code",
      "source": [
        "df_groupby['total_deaths']/df_groupby['total_cases']"
      ],
      "metadata": {
        "colab": {
          "base_uri": "https://localhost:8080/"
        },
        "id": "lN1Wtiwwy26K",
        "outputId": "10cc8b2d-35e8-4919-c3e3-39845b9ab295"
      },
      "execution_count": 75,
      "outputs": [
        {
          "output_type": "execute_result",
          "data": {
            "text/plain": [
              "0    0.024087\n",
              "1    0.027004\n",
              "2    0.014708\n",
              "3    0.026188\n",
              "4    0.022062\n",
              "5    0.032685\n",
              "6    0.028251\n",
              "dtype: float64"
            ]
          },
          "metadata": {},
          "execution_count": 75
        }
      ]
    },
    {
      "cell_type": "code",
      "source": [
        "df_groupby[\"total_deaths_to_total_cases\"] = df_groupby[\"total_deaths\"]/df_groupby[\"total_cases\"]"
      ],
      "metadata": {
        "id": "KIVzQMsAzbhZ"
      },
      "execution_count": 79,
      "outputs": []
    },
    {
      "cell_type": "markdown",
      "source": [
        "# Data Visualization :"
      ],
      "metadata": {
        "id": "ZbMnnP0C0PhK"
      }
    },
    {
      "cell_type": "markdown",
      "source": [
        "**a. Perform Univariate analysis on 'gdp_per_capita' column by\n",
        "plotting\n",
        "histogram using seaborn dist plot.**"
      ],
      "metadata": {
        "id": "1x8pjGv_9aQv"
      }
    },
    {
      "cell_type": "code",
      "source": [
        "sns.distplot(df_groupby[\"gdp_per_capita\"],bins=6,rug=True);"
      ],
      "metadata": {
        "colab": {
          "base_uri": "https://localhost:8080/",
          "height": 379
        },
        "id": "bvj0MQVZz9kM",
        "outputId": "1b0dd274-9a7c-481b-cbf0-c8d2e438ec57"
      },
      "execution_count": 82,
      "outputs": [
        {
          "output_type": "stream",
          "name": "stderr",
          "text": [
            "/usr/local/lib/python3.7/dist-packages/seaborn/distributions.py:2619: FutureWarning: `distplot` is a deprecated function and will be removed in a future version. Please adapt your code to use either `displot` (a figure-level function with similar flexibility) or `histplot` (an axes-level function for histograms).\n",
            "  warnings.warn(msg, FutureWarning)\n",
            "/usr/local/lib/python3.7/dist-packages/seaborn/distributions.py:2103: FutureWarning: The `axis` variable is no longer used and will be removed. Instead, assign variables directly to `x` or `y`.\n",
            "  warnings.warn(msg, FutureWarning)\n"
          ]
        },
        {
          "output_type": "display_data",
          "data": {
            "text/plain": [
              "<Figure size 432x288 with 1 Axes>"
            ],
            "image/png": "[encoded data removed]"
          },
          "metadata": {
            "needs_background": "light"
          }
        }
      ]
    },
    {
      "cell_type": "markdown",
      "source": [
        "**b. Plot a scatter plot of 'total_cases' & 'gdp_per_capita'**"
      ],
      "metadata": {
        "id": "GITLFtHE9iaG"
      }
    },
    {
      "cell_type": "code",
      "source": [
        "sns.scatterplot(data=df_groupby,x=\"total_cases\",y=\"gdp_per_capita\",hue=\"continent\",legend=False)\n"
      ],
      "metadata": {
        "colab": {
          "base_uri": "https://localhost:8080/",
          "height": 297
        },
        "id": "ZPXTy3pp0huW",
        "outputId": "53a46ec6-714c-4c84-a418-38d4bd0d5fb2"
      },
      "execution_count": 83,
      "outputs": [
        {
          "output_type": "execute_result",
          "data": {
            "text/plain": [
              "<matplotlib.axes._subplots.AxesSubplot at 0x7fedd5238810>"
            ]
          },
          "metadata": {},
          "execution_count": 83
        },
        {
          "output_type": "display_data",
          "data": {
            "text/plain": [
              "<Figure size 432x288 with 1 Axes>"
            ],
            "image/png": "[encoded data removed]"
          },
          "metadata": {
            "needs_background": "light"
          }
        }
      ]
    },
    {
      "cell_type": "markdown",
      "source": [
        "**c. Plot Pairplot on df_groupby dataset.**"
      ],
      "metadata": {
        "id": "Oga8e-fY9mnX"
      }
    },
    {
      "cell_type": "code",
      "source": [
        "sns.pairplot(df_groupby,diag_kind=\"kde\")"
      ],
      "metadata": {
        "colab": {
          "base_uri": "https://localhost:8080/",
          "height": 866
        },
        "id": "_ifJLtB60rWK",
        "outputId": "106d7d82-1854-4c1a-d106-29526be133a4"
      },
      "execution_count": 84,
      "outputs": [
        {
          "output_type": "execute_result",
          "data": {
            "text/plain": [
              "<seaborn.axisgrid.PairGrid at 0x7fedd5241610>"
            ]
          },
          "metadata": {},
          "execution_count": 84
        },
        {
          "output_type": "display_data",
          "data": {
            "text/plain": [
              "<Figure size 1080x1080 with 42 Axes>"
            ],
            "image/png": "[encoded data removed]"
          },
          "metadata": {
            "needs_background": "light"
          }
        }
      ]
    },
    {
      "cell_type": "markdown",
      "source": [
        "**d. Plot a bar plot of 'continent' column with 'total_cases' .**"
      ],
      "metadata": {
        "id": "1HxqAx9h9uHe"
      }
    },
    {
      "cell_type": "code",
      "source": [
        "sns.catplot(data=df_groupby,x=\"continent\",y=\"total_cases\",kind=\"bar\",palette=\"coolwarm\")"
      ],
      "metadata": {
        "colab": {
          "base_uri": "https://localhost:8080/",
          "height": 386
        },
        "id": "3BQHTRx_0w66",
        "outputId": "0100edfd-dbef-4736-ffce-e5541f2b76a1"
      },
      "execution_count": 85,
      "outputs": [
        {
          "output_type": "execute_result",
          "data": {
            "text/plain": [
              "<seaborn.axisgrid.FacetGrid at 0x7fedd87d15d0>"
            ]
          },
          "metadata": {},
          "execution_count": 85
        },
        {
          "output_type": "display_data",
          "data": {
            "text/plain": [
              "<Figure size 360x360 with 1 Axes>"
            ],
            "image/png": "[encoded data removed]"
          },
          "metadata": {
            "needs_background": "light"
          }
        }
      ]
    },
    {
      "cell_type": "code",
      "source": [
        "df.head()"
      ],
      "metadata": {
        "colab": {
          "base_uri": "https://localhost:8080/",
          "height": 268
        },
        "id": "6LeXf45j05mz",
        "outputId": "5386c783-8a17-48c7-e0d5-07677f4c7f52"
      },
      "execution_count": 86,
      "outputs": [
        {
          "output_type": "execute_result",
          "data": {
            "text/plain": [
              "  continent     location      date  total_cases  total_deaths  gdp_per_capita  \\\n",
              "0      Asia  Afghanistan  31/12/19          0.0           0.0        1803.987   \n",
              "1      Asia  Afghanistan  01/01/20          0.0           0.0        1803.987   \n",
              "2      Asia  Afghanistan  02/01/20          0.0           0.0        1803.987   \n",
              "3      Asia  Afghanistan  03/01/20          0.0           0.0        1803.987   \n",
              "4      Asia  Afghanistan  04/01/20          0.0           0.0        1803.987   \n",
              "\n",
              "   human_development_index  month  total_deaths_to_total_cases  \n",
              "0                    0.498     12                     0.024087  \n",
              "1                    0.498      1                     0.027004  \n",
              "2                    0.498      2                     0.014708  \n",
              "3                    0.498      3                     0.026188  \n",
              "4                    0.498      4                     0.022062  "
            ],
            "text/html": [
              "\n",
              "  <div id=\"df-14725db0-1d91-41a3-ae45-adc9c6be8c6f\">\n",
              "    <div class=\"colab-df-container\">\n",
              "      <div>\n",
              "<style scoped>\n",
              "    .dataframe tbody tr th:only-of-type {\n",
              "        vertical-align: middle;\n",
              "    }\n",
              "\n",
              "    .dataframe tbody tr th {\n",
              "        vertical-align: top;\n",
              "    }\n",
              "\n",
              "    .dataframe thead th {\n",
              "        text-align: right;\n",
              "    }\n",
              "</style>\n",
              "<table border=\"1\" class=\"dataframe\">\n",
              "  <thead>\n",
              "    <tr style=\"text-align: right;\">\n",
              "      <th></th>\n",
              "      <th>continent</th>\n",
              "      <th>location</th>\n",
              "      <th>date</th>\n",
              "      <th>total_cases</th>\n",
              "      <th>total_deaths</th>\n",
              "      <th>gdp_per_capita</th>\n",
              "      <th>human_development_index</th>\n",
              "      <th>month</th>\n",
              "      <th>total_deaths_to_total_cases</th>\n",
              "    </tr>\n",
              "  </thead>\n",
              "  <tbody>\n",
              "    <tr>\n",
              "      <th>0</th>\n",
              "      <td>Asia</td>\n",
              "      <td>Afghanistan</td>\n",
              "      <td>31/12/19</td>\n",
              "      <td>0.0</td>\n",
              "      <td>0.0</td>\n",
              "      <td>1803.987</td>\n",
              "      <td>0.498</td>\n",
              "      <td>12</td>\n",
              "      <td>0.024087</td>\n",
              "    </tr>\n",
              "    <tr>\n",
              "      <th>1</th>\n",
              "      <td>Asia</td>\n",
              "      <td>Afghanistan</td>\n",
              "      <td>01/01/20</td>\n",
              "      <td>0.0</td>\n",
              "      <td>0.0</td>\n",
              "      <td>1803.987</td>\n",
              "      <td>0.498</td>\n",
              "      <td>1</td>\n",
              "      <td>0.027004</td>\n",
              "    </tr>\n",
              "    <tr>\n",
              "      <th>2</th>\n",
              "      <td>Asia</td>\n",
              "      <td>Afghanistan</td>\n",
              "      <td>02/01/20</td>\n",
              "      <td>0.0</td>\n",
              "      <td>0.0</td>\n",
              "      <td>1803.987</td>\n",
              "      <td>0.498</td>\n",
              "      <td>2</td>\n",
              "      <td>0.014708</td>\n",
              "    </tr>\n",
              "    <tr>\n",
              "      <th>3</th>\n",
              "      <td>Asia</td>\n",
              "      <td>Afghanistan</td>\n",
              "      <td>03/01/20</td>\n",
              "      <td>0.0</td>\n",
              "      <td>0.0</td>\n",
              "      <td>1803.987</td>\n",
              "      <td>0.498</td>\n",
              "      <td>3</td>\n",
              "      <td>0.026188</td>\n",
              "    </tr>\n",
              "    <tr>\n",
              "      <th>4</th>\n",
              "      <td>Asia</td>\n",
              "      <td>Afghanistan</td>\n",
              "      <td>04/01/20</td>\n",
              "      <td>0.0</td>\n",
              "      <td>0.0</td>\n",
              "      <td>1803.987</td>\n",
              "      <td>0.498</td>\n",
              "      <td>4</td>\n",
              "      <td>0.022062</td>\n",
              "    </tr>\n",
              "  </tbody>\n",
              "</table>\n",
              "</div>\n",
              "      <button class=\"colab-df-convert\" onclick=\"convertToInteractive('df-14725db0-1d91-41a3-ae45-adc9c6be8c6f')\"\n",
              "              title=\"Convert this dataframe to an interactive table.\"\n",
              "              style=\"display:none;\">\n",
              "        \n",
              "  <svg xmlns=\"http://www.w3.org/2000/svg\" height=\"24px\"viewBox=\"0 0 24 24\"\n",
              "       width=\"24px\">\n",
              "    <path d=\"M0 0h24v24H0V0z\" fill=\"none\"/>\n",
              "    <path d=\"M18.56 5.44l.94 2.06.94-2.06 2.06-.94-2.06-.94-.94-2.06-.94 2.06-2.06.94zm-11 1L8.5 8.5l.94-2.06 2.06-.94-2.06-.94L8.5 2.5l-.94 2.06-2.06.94zm10 10l.94 2.06.94-2.06 2.06-.94-2.06-.94-.94-2.06-.94 2.06-2.06.94z\"/><path d=\"M17.41 7.96l-1.37-1.37c-.4-.4-.92-.59-1.43-.59-.52 0-1.04.2-1.43.59L10.3 9.45l-7.72 7.72c-.78.78-.78 2.05 0 2.83L4 21.41c.39.39.9.59 1.41.59.51 0 1.02-.2 1.41-.59l7.78-7.78 2.81-2.81c.8-.78.8-2.07 0-2.86zM5.41 20L4 18.59l7.72-7.72 1.47 1.35L5.41 20z\"/>\n",
              "  </svg>\n",
              "      </button>\n",
              "      \n",
              "  <style>\n",
              "    .colab-df-container {\n",
              "      display:flex;\n",
              "      flex-wrap:wrap;\n",
              "      gap: 12px;\n",
              "    }\n",
              "\n",
              "    .colab-df-convert {\n",
              "      background-color: #E8F0FE;\n",
              "      border: none;\n",
              "      border-radius: 50%;\n",
              "      cursor: pointer;\n",
              "      display: none;\n",
              "      fill: #1967D2;\n",
              "      height: 32px;\n",
              "      padding: 0 0 0 0;\n",
              "      width: 32px;\n",
              "    }\n",
              "\n",
              "    .colab-df-convert:hover {\n",
              "      background-color: #E2EBFA;\n",
              "      box-shadow: 0px 1px 2px rgba(60, 64, 67, 0.3), 0px 1px 3px 1px rgba(60, 64, 67, 0.15);\n",
              "      fill: #174EA6;\n",
              "    }\n",
              "\n",
              "    [theme=dark] .colab-df-convert {\n",
              "      background-color: #3B4455;\n",
              "      fill: #D2E3FC;\n",
              "    }\n",
              "\n",
              "    [theme=dark] .colab-df-convert:hover {\n",
              "      background-color: #434B5C;\n",
              "      box-shadow: 0px 1px 3px 1px rgba(0, 0, 0, 0.15);\n",
              "      filter: drop-shadow(0px 1px 2px rgba(0, 0, 0, 0.3));\n",
              "      fill: #FFFFFF;\n",
              "    }\n",
              "  </style>\n",
              "\n",
              "      <script>\n",
              "        const buttonEl =\n",
              "          document.querySelector('#df-14725db0-1d91-41a3-ae45-adc9c6be8c6f button.colab-df-convert');\n",
              "        buttonEl.style.display =\n",
              "          google.colab.kernel.accessAllowed ? 'block' : 'none';\n",
              "\n",
              "        async function convertToInteractive(key) {\n",
              "          const element = document.querySelector('#df-14725db0-1d91-41a3-ae45-adc9c6be8c6f');\n",
              "          const dataTable =\n",
              "            await google.colab.kernel.invokeFunction('convertToInteractive',\n",
              "                                                     [key], {});\n",
              "          if (!dataTable) return;\n",
              "\n",
              "          const docLinkHtml = 'Like what you see? Visit the ' +\n",
              "            '<a target=\"_blank\" href=https://colab.research.google.com/notebooks/data_table.ipynb>data table notebook</a>'\n",
              "            + ' to learn more about interactive tables.';\n",
              "          element.innerHTML = '';\n",
              "          dataTable['output_type'] = 'display_data';\n",
              "          await google.colab.output.renderOutput(dataTable, element);\n",
              "          const docLink = document.createElement('div');\n",
              "          docLink.innerHTML = docLinkHtml;\n",
              "          element.appendChild(docLink);\n",
              "        }\n",
              "      </script>\n",
              "    </div>\n",
              "  </div>\n",
              "  "
            ]
          },
          "metadata": {},
          "execution_count": 86
        }
      ]
    },
    {
      "cell_type": "markdown",
      "source": [
        "# 10.Save the df_groupby dataframe in your local drive using pandas.to_csv\n",
        "function ."
      ],
      "metadata": {
        "id": "G6W5mrfc9z1K"
      }
    },
    {
      "cell_type": "code",
      "source": [
        "df_groupby.to_csv(\"Data_groupby\")"
      ],
      "metadata": {
        "id": "lDuxYtB-0_Tk"
      },
      "execution_count": 87,
      "outputs": []
    }
  ]
}